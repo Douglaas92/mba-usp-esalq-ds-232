{
 "cells": [
  {
   "cell_type": "markdown",
   "id": "92b511fb",
   "metadata": {},
   "source": [
    "## **Métodos Não Supervisionados - Hierárquico Aglomerativo e K-Means**\n",
    "\n",
    "- No Hierárquico Aglomerativo, partimos de todas as aglomerações isoladas, até chegar ao final com um único cluster\n",
    "- Já no Não Hierárquico K-means, define-se, a priori, quantos cluster serão formados "
   ]
  },
  {
   "cell_type": "markdown",
   "id": "e0bece4a",
   "metadata": {},
   "source": [
    "**Matriz de Dissimilaridade (identificará quais as observações mais parecidas e mais diferentes, com base nos valores das variáveis):**\n",
    "- Medidas de Distância:\n",
    "    - Euclidiana Quadrática\n",
    "    - Euclidiana\n",
    "    - Manhattan \n",
    "    - Chebychev\n",
    "\n",
    "*Quanto maior, mais diferentes / Quanto menor, mais similares*"
   ]
  },
  {
   "cell_type": "markdown",
   "id": "5e5269b1",
   "metadata": {},
   "source": [
    "**Método de Encadeamento:**\n",
    "- Single Linkage: prioriza a menor distância\n",
    "- Complete Linkage: prioriza a maior distância\n",
    "- Average Linkage: prioriza a soma das distâncias / quantidade de amostras (ou seja, a média)"
   ]
  },
  {
   "cell_type": "markdown",
   "id": "69c431c1",
   "metadata": {},
   "source": [
    "**O primeiro cluster será o de menor distância entre o par de observações, a partir disso, se realiza os métodos escolhidos, dos três acima, comparando a distância do par de variáveis com as demais variáveis isoladas**"
   ]
  },
  {
   "cell_type": "markdown",
   "id": "e4a4ff93",
   "metadata": {},
   "source": [
    "## Executando os Códigos - Clusterização Aglomerativa"
   ]
  },
  {
   "cell_type": "code",
   "execution_count": 11,
   "id": "809ad4ff",
   "metadata": {},
   "outputs": [],
   "source": [
    "import pandas as pd\n",
    "import numpy as np\n",
    "import matplotlib.pyplot as plt\n",
    "import seaborn as sns\n",
    "import scipy.cluster.hierarchy as sch\n",
    "import scipy.stats as stats\n",
    "from scipy.stats import zscore\n",
    "from scipy.spatial.distance import pdist\n",
    "from sklearn.cluster import AgglomerativeClustering\n",
    "from sklearn.cluster import KMeans\n",
    "import pingouin as pg\n",
    "import plotly.express as px \n",
    "import plotly.io as pio\n",
    "pio.renderers.default='browser'"
   ]
  },
  {
   "cell_type": "code",
   "execution_count": 12,
   "id": "467aede9",
   "metadata": {},
   "outputs": [
    {
     "name": "stdout",
     "output_type": "stream",
     "text": [
      "CPU times: total: 359 ms\n",
      "Wall time: 530 ms\n"
     ]
    }
   ],
   "source": [
    "%%time\n",
    "\n",
    "dados_vest = pd.read_excel('vestibular.xlsx')"
   ]
  },
  {
   "cell_type": "code",
   "execution_count": 15,
   "id": "c018f945",
   "metadata": {},
   "outputs": [
    {
     "data": {
      "text/html": [
       "<div>\n",
       "<style scoped>\n",
       "    .dataframe tbody tr th:only-of-type {\n",
       "        vertical-align: middle;\n",
       "    }\n",
       "\n",
       "    .dataframe tbody tr th {\n",
       "        vertical-align: top;\n",
       "    }\n",
       "\n",
       "    .dataframe thead th {\n",
       "        text-align: right;\n",
       "    }\n",
       "</style>\n",
       "<table border=\"1\" class=\"dataframe\">\n",
       "  <thead>\n",
       "    <tr style=\"text-align: right;\">\n",
       "      <th></th>\n",
       "      <th>estudante</th>\n",
       "      <th>matemática</th>\n",
       "      <th>física</th>\n",
       "      <th>química</th>\n",
       "    </tr>\n",
       "  </thead>\n",
       "  <tbody>\n",
       "    <tr>\n",
       "      <th>0</th>\n",
       "      <td>Gabriela</td>\n",
       "      <td>3.7</td>\n",
       "      <td>2.7</td>\n",
       "      <td>9.1</td>\n",
       "    </tr>\n",
       "    <tr>\n",
       "      <th>1</th>\n",
       "      <td>Luiz Felipe</td>\n",
       "      <td>7.8</td>\n",
       "      <td>8.0</td>\n",
       "      <td>1.5</td>\n",
       "    </tr>\n",
       "    <tr>\n",
       "      <th>2</th>\n",
       "      <td>Patrícia</td>\n",
       "      <td>8.9</td>\n",
       "      <td>1.0</td>\n",
       "      <td>2.7</td>\n",
       "    </tr>\n",
       "    <tr>\n",
       "      <th>3</th>\n",
       "      <td>Ovídio</td>\n",
       "      <td>7.0</td>\n",
       "      <td>1.0</td>\n",
       "      <td>9.0</td>\n",
       "    </tr>\n",
       "    <tr>\n",
       "      <th>4</th>\n",
       "      <td>Leonor</td>\n",
       "      <td>3.4</td>\n",
       "      <td>2.0</td>\n",
       "      <td>5.0</td>\n",
       "    </tr>\n",
       "  </tbody>\n",
       "</table>\n",
       "</div>"
      ],
      "text/plain": [
       "     estudante  matemática  física  química\n",
       "0     Gabriela         3.7     2.7      9.1\n",
       "1  Luiz Felipe         7.8     8.0      1.5\n",
       "2     Patrícia         8.9     1.0      2.7\n",
       "3       Ovídio         7.0     1.0      9.0\n",
       "4       Leonor         3.4     2.0      5.0"
      ]
     },
     "execution_count": 15,
     "metadata": {},
     "output_type": "execute_result"
    }
   ],
   "source": [
    "dados_vest.head()"
   ]
  },
  {
   "cell_type": "code",
   "execution_count": 16,
   "id": "9d3dedd9",
   "metadata": {},
   "outputs": [
    {
     "name": "stdout",
     "output_type": "stream",
     "text": [
      "<class 'pandas.core.frame.DataFrame'>\n",
      "RangeIndex: 5 entries, 0 to 4\n",
      "Data columns (total 4 columns):\n",
      " #   Column      Non-Null Count  Dtype  \n",
      "---  ------      --------------  -----  \n",
      " 0   estudante   5 non-null      object \n",
      " 1   matemática  5 non-null      float64\n",
      " 2   física      5 non-null      float64\n",
      " 3   química     5 non-null      float64\n",
      "dtypes: float64(3), object(1)\n",
      "memory usage: 288.0+ bytes\n"
     ]
    }
   ],
   "source": [
    "dados_vest.info()"
   ]
  },
  {
   "cell_type": "code",
   "execution_count": 17,
   "id": "f8062164",
   "metadata": {},
   "outputs": [
    {
     "data": {
      "text/html": [
       "<div>\n",
       "<style scoped>\n",
       "    .dataframe tbody tr th:only-of-type {\n",
       "        vertical-align: middle;\n",
       "    }\n",
       "\n",
       "    .dataframe tbody tr th {\n",
       "        vertical-align: top;\n",
       "    }\n",
       "\n",
       "    .dataframe thead th {\n",
       "        text-align: right;\n",
       "    }\n",
       "</style>\n",
       "<table border=\"1\" class=\"dataframe\">\n",
       "  <thead>\n",
       "    <tr style=\"text-align: right;\">\n",
       "      <th></th>\n",
       "      <th>matemática</th>\n",
       "      <th>física</th>\n",
       "      <th>química</th>\n",
       "    </tr>\n",
       "  </thead>\n",
       "  <tbody>\n",
       "    <tr>\n",
       "      <th>count</th>\n",
       "      <td>5.000000</td>\n",
       "      <td>5.000000</td>\n",
       "      <td>5.000000</td>\n",
       "    </tr>\n",
       "    <tr>\n",
       "      <th>mean</th>\n",
       "      <td>6.160000</td>\n",
       "      <td>2.940000</td>\n",
       "      <td>5.460000</td>\n",
       "    </tr>\n",
       "    <tr>\n",
       "      <th>std</th>\n",
       "      <td>2.478508</td>\n",
       "      <td>2.918561</td>\n",
       "      <td>3.510413</td>\n",
       "    </tr>\n",
       "    <tr>\n",
       "      <th>min</th>\n",
       "      <td>3.400000</td>\n",
       "      <td>1.000000</td>\n",
       "      <td>1.500000</td>\n",
       "    </tr>\n",
       "    <tr>\n",
       "      <th>25%</th>\n",
       "      <td>3.700000</td>\n",
       "      <td>1.000000</td>\n",
       "      <td>2.700000</td>\n",
       "    </tr>\n",
       "    <tr>\n",
       "      <th>50%</th>\n",
       "      <td>7.000000</td>\n",
       "      <td>2.000000</td>\n",
       "      <td>5.000000</td>\n",
       "    </tr>\n",
       "    <tr>\n",
       "      <th>75%</th>\n",
       "      <td>7.800000</td>\n",
       "      <td>2.700000</td>\n",
       "      <td>9.000000</td>\n",
       "    </tr>\n",
       "    <tr>\n",
       "      <th>max</th>\n",
       "      <td>8.900000</td>\n",
       "      <td>8.000000</td>\n",
       "      <td>9.100000</td>\n",
       "    </tr>\n",
       "  </tbody>\n",
       "</table>\n",
       "</div>"
      ],
      "text/plain": [
       "       matemática    física   química\n",
       "count    5.000000  5.000000  5.000000\n",
       "mean     6.160000  2.940000  5.460000\n",
       "std      2.478508  2.918561  3.510413\n",
       "min      3.400000  1.000000  1.500000\n",
       "25%      3.700000  1.000000  2.700000\n",
       "50%      7.000000  2.000000  5.000000\n",
       "75%      7.800000  2.700000  9.000000\n",
       "max      8.900000  8.000000  9.100000"
      ]
     },
     "execution_count": 17,
     "metadata": {},
     "output_type": "execute_result"
    }
   ],
   "source": [
    "dados_vest.describe()"
   ]
  },
  {
   "cell_type": "markdown",
   "id": "d1f2f43f",
   "metadata": {},
   "source": [
    "**A amplitude não está distinta, portanto, não faremos padronização pelo Z-Score**"
   ]
  },
  {
   "cell_type": "code",
   "execution_count": 18,
   "id": "13bfd27b",
   "metadata": {},
   "outputs": [],
   "source": [
    "# Gráfico 3D das observações (realizamos esse gráfico, pois temos 3 variáveis: matemática, química e física)\n",
    "\n",
    "fig = px.scatter_3d(dados_vest, \n",
    "                    x='matemática', \n",
    "                    y='química', \n",
    "                    z='física',\n",
    "                    text=dados_vest.estudante)\n",
    "fig.show()"
   ]
  },
  {
   "cell_type": "markdown",
   "id": "b2c73e62",
   "metadata": {},
   "source": [
    "**Exemplo de Z-Score**"
   ]
  },
  {
   "cell_type": "code",
   "execution_count": 19,
   "id": "2eff8040",
   "metadata": {},
   "outputs": [
    {
     "name": "stdout",
     "output_type": "stream",
     "text": [
      "matemática    0.0\n",
      "física        0.0\n",
      "química       0.0\n",
      "dtype: float64\n",
      "matemática    1.0\n",
      "física        1.0\n",
      "química       1.0\n",
      "dtype: float64\n"
     ]
    }
   ],
   "source": [
    "# Padronização por meio do Z-Score\n",
    "\n",
    "# Muitas vezes, é importante realizar o procedimento Z-Score nas variáveis\n",
    "# Quando as variáveis estiverem em unidades de medidas ou escalas distintas\n",
    "# Poderia ser feito da seguinte forma, embora aqui não utilizaremos!\n",
    "\n",
    "# Selecionado apenas variáveis métricas\n",
    "vest = dados_vest.drop(columns=['estudante'])\n",
    "\n",
    "# Aplicando o procedimento de ZScore\n",
    "vest_pad = vest.apply(zscore, ddof=1)\n",
    "\n",
    "# Visualizando o resultado do procedimento na média e desvio padrão\n",
    "print(round(vest_pad.mean(), 2))\n",
    "print(round(vest_pad.std(), 2))"
   ]
  },
  {
   "cell_type": "code",
   "execution_count": 21,
   "id": "0b34d4f7",
   "metadata": {},
   "outputs": [
    {
     "data": {
      "image/png": "[encoded data removed]",
      "text/plain": [
       "<Figure size 1000x700 with 1 Axes>"
      ]
     },
     "metadata": {},
     "output_type": "display_data"
    }
   ],
   "source": [
    "# Boxplot com as três variáveis originais\n",
    "\n",
    "plt.figure(figsize=(10,7))\n",
    "sns.boxplot(x='variable', y='value', data=pd.melt(vest))\n",
    "plt.ylabel('Valores', fontsize=16)\n",
    "plt.xlabel('Variáveis', fontsize=16)\n",
    "plt.show()"
   ]
  },
  {
   "cell_type": "markdown",
   "id": "47d35775",
   "metadata": {},
   "source": [
    "**O gráfico acima ilustra que não é necessária a padronização neste caso**"
   ]
  },
  {
   "cell_type": "code",
   "execution_count": 22,
   "id": "f82870c0",
   "metadata": {},
   "outputs": [
    {
     "data": {
      "image/png": "[encoded data removed]",
      "text/plain": [
       "<Figure size 1000x700 with 1 Axes>"
      ]
     },
     "metadata": {},
     "output_type": "display_data"
    }
   ],
   "source": [
    "# Boxplot com as três variáveis padronizadas\n",
    "\n",
    "plt.figure(figsize=(10,7))\n",
    "sns.boxplot(x='variable', y='value', data=pd.melt(vest_pad))\n",
    "plt.ylabel('Valores', fontsize=16)\n",
    "plt.xlabel('Variáveis', fontsize=16)\n",
    "plt.show()"
   ]
  },
  {
   "cell_type": "code",
   "execution_count": 23,
   "id": "2a0e7e1f",
   "metadata": {},
   "outputs": [],
   "source": [
    "# Cluster hierárquico aglomerativo: distância euclidiana + single linkage\n",
    "\n",
    "# Visualizando as distâncias\n",
    "dist_euclidiana = pdist(vest, metric='euclidean')\n",
    "\n",
    "# Opções para as distâncias (\"metric\"):\n",
    "    ## euclidean\n",
    "    ## sqeuclidean\n",
    "    ## cityblock\n",
    "    ## chebyshev\n",
    "    ## canberra\n",
    "    ## correlation"
   ]
  },
  {
   "cell_type": "code",
   "execution_count": 24,
   "id": "4ec56715",
   "metadata": {},
   "outputs": [
    {
     "data": {
      "image/png": "[encoded data removed]",
      "text/plain": [
       "<Figure size 1600x800 with 1 Axes>"
      ]
     },
     "metadata": {},
     "output_type": "display_data"
    }
   ],
   "source": [
    "# Gerando o dendrograma\n",
    "## Distância euclidiana e método de encadeamento single linkage\n",
    "\n",
    "plt.figure(figsize=(16,8))\n",
    "dend_sing = sch.linkage(vest, method = 'single', metric = 'euclidean')\n",
    "dendrogram_s = sch.dendrogram(dend_sing, color_threshold = 4.5, labels = list(dados_vest.estudante))\n",
    "plt.title('Dendrograma', fontsize=16)\n",
    "plt.xlabel('Pessoas', fontsize=16)\n",
    "plt.ylabel('Distância Euclidiana', fontsize=16)\n",
    "plt.axhline(y = 4.5, color = 'red', linestyle = '--')\n",
    "plt.show()\n",
    "\n",
    "# Opções para o método de encadeamento (\"method\"):\n",
    "    ## single\n",
    "    ## complete\n",
    "    ## average\n",
    "\n",
    "# Opções para as distâncias (\"metric\"):\n",
    "    ## euclidean\n",
    "    ## sqeuclidean\n",
    "    ## cityblock\n",
    "    ## chebyshev\n",
    "    ## canberra\n",
    "    ## correlation"
   ]
  },
  {
   "cell_type": "code",
   "execution_count": 25,
   "id": "749a37ee",
   "metadata": {},
   "outputs": [],
   "source": [
    "# Gerando a variável com a indicação do cluster no dataset\n",
    "\n",
    "## Deve ser realizada a seguinte parametrização:\n",
    "    ## Número de clusters (n_clusters)\n",
    "    ## Medida de distância (metric)\n",
    "    ## Método de encadeamento (linkage)\n",
    "    \n",
    "# Como já observamos 3 clusters no dendrograma, vamos selecionar \"3\" clusters\n",
    "# A medida de distância e o método de encadeamento são mantidos\n",
    "\n",
    "cluster_sing = AgglomerativeClustering(n_clusters = 3, metric = 'euclidean', linkage = 'single')\n",
    "indica_cluster_sing = cluster_sing.fit_predict(vest)\n",
    "dados_vest['cluster_single'] = indica_cluster_sing\n",
    "dados_vest['cluster_single'] = dados_vest['cluster_single'].astype('category')"
   ]
  },
  {
   "cell_type": "code",
   "execution_count": 26,
   "id": "f30c3ae6",
   "metadata": {},
   "outputs": [
    {
     "data": {
      "text/html": [
       "<div>\n",
       "<style scoped>\n",
       "    .dataframe tbody tr th:only-of-type {\n",
       "        vertical-align: middle;\n",
       "    }\n",
       "\n",
       "    .dataframe tbody tr th {\n",
       "        vertical-align: top;\n",
       "    }\n",
       "\n",
       "    .dataframe thead th {\n",
       "        text-align: right;\n",
       "    }\n",
       "</style>\n",
       "<table border=\"1\" class=\"dataframe\">\n",
       "  <thead>\n",
       "    <tr style=\"text-align: right;\">\n",
       "      <th></th>\n",
       "      <th>estudante</th>\n",
       "      <th>matemática</th>\n",
       "      <th>física</th>\n",
       "      <th>química</th>\n",
       "      <th>cluster_single</th>\n",
       "    </tr>\n",
       "  </thead>\n",
       "  <tbody>\n",
       "    <tr>\n",
       "      <th>0</th>\n",
       "      <td>Gabriela</td>\n",
       "      <td>3.7</td>\n",
       "      <td>2.7</td>\n",
       "      <td>9.1</td>\n",
       "      <td>0</td>\n",
       "    </tr>\n",
       "    <tr>\n",
       "      <th>1</th>\n",
       "      <td>Luiz Felipe</td>\n",
       "      <td>7.8</td>\n",
       "      <td>8.0</td>\n",
       "      <td>1.5</td>\n",
       "      <td>1</td>\n",
       "    </tr>\n",
       "    <tr>\n",
       "      <th>2</th>\n",
       "      <td>Patrícia</td>\n",
       "      <td>8.9</td>\n",
       "      <td>1.0</td>\n",
       "      <td>2.7</td>\n",
       "      <td>2</td>\n",
       "    </tr>\n",
       "    <tr>\n",
       "      <th>3</th>\n",
       "      <td>Ovídio</td>\n",
       "      <td>7.0</td>\n",
       "      <td>1.0</td>\n",
       "      <td>9.0</td>\n",
       "      <td>0</td>\n",
       "    </tr>\n",
       "    <tr>\n",
       "      <th>4</th>\n",
       "      <td>Leonor</td>\n",
       "      <td>3.4</td>\n",
       "      <td>2.0</td>\n",
       "      <td>5.0</td>\n",
       "      <td>0</td>\n",
       "    </tr>\n",
       "  </tbody>\n",
       "</table>\n",
       "</div>"
      ],
      "text/plain": [
       "     estudante  matemática  física  química cluster_single\n",
       "0     Gabriela         3.7     2.7      9.1              0\n",
       "1  Luiz Felipe         7.8     8.0      1.5              1\n",
       "2     Patrícia         8.9     1.0      2.7              2\n",
       "3       Ovídio         7.0     1.0      9.0              0\n",
       "4       Leonor         3.4     2.0      5.0              0"
      ]
     },
     "execution_count": 26,
     "metadata": {},
     "output_type": "execute_result"
    }
   ],
   "source": [
    "dados_vest.head()"
   ]
  },
  {
   "cell_type": "code",
   "execution_count": 27,
   "id": "982adc3c",
   "metadata": {},
   "outputs": [
    {
     "name": "stdout",
     "output_type": "stream",
     "text": [
      "[3.713488925525428, 4.170131892398609, 6.044832503882965, 7.1867934435323795]\n"
     ]
    }
   ],
   "source": [
    "# Coeficientes do esquema hierárquico de aglomeração (single)\n",
    "coef_single = [y[1] for y in dendrogram_s['dcoord']]\n",
    "print(coef_single)"
   ]
  },
  {
   "cell_type": "code",
   "execution_count": 28,
   "id": "404b9ef0",
   "metadata": {},
   "outputs": [
    {
     "data": {
      "image/png": "[encoded data removed]",
      "text/plain": [
       "<Figure size 1600x800 with 1 Axes>"
      ]
     },
     "metadata": {},
     "output_type": "display_data"
    }
   ],
   "source": [
    "#%% Cluster hierárquico aglomerativo: distância euclidiana + complete linkage\n",
    "\n",
    "# Gerando o dendrograma\n",
    "## Distância euclidiana e método de encadeamento complete linkage\n",
    "\n",
    "plt.figure(figsize=(16,8))\n",
    "dend_compl = sch.linkage(vest, method = 'complete', metric = 'euclidean')\n",
    "dendrogram_c = sch.dendrogram(dend_compl, color_threshold = 6, labels = list(dados_vest.estudante))\n",
    "plt.title('Dendrograma', fontsize=16)\n",
    "plt.xlabel('Pessoas', fontsize=16)\n",
    "plt.ylabel('Distância Euclidiana', fontsize=16)\n",
    "plt.axhline(y = 6, color = 'red', linestyle = '--')\n",
    "plt.show()"
   ]
  },
  {
   "cell_type": "code",
   "execution_count": 29,
   "id": "c2b7a97b",
   "metadata": {},
   "outputs": [],
   "source": [
    "# Gerando a variável com a indicação do cluster no dataset\n",
    "\n",
    "cluster_comp = AgglomerativeClustering(n_clusters = 3, metric = 'euclidean', linkage = 'complete')\n",
    "indica_cluster_comp = cluster_comp.fit_predict(vest)\n",
    "dados_vest['cluster_complete'] = indica_cluster_comp\n",
    "dados_vest['cluster_complete'] = dados_vest['cluster_complete'].astype('category')"
   ]
  },
  {
   "cell_type": "code",
   "execution_count": 30,
   "id": "0319935d",
   "metadata": {},
   "outputs": [
    {
     "data": {
      "text/html": [
       "<div>\n",
       "<style scoped>\n",
       "    .dataframe tbody tr th:only-of-type {\n",
       "        vertical-align: middle;\n",
       "    }\n",
       "\n",
       "    .dataframe tbody tr th {\n",
       "        vertical-align: top;\n",
       "    }\n",
       "\n",
       "    .dataframe thead th {\n",
       "        text-align: right;\n",
       "    }\n",
       "</style>\n",
       "<table border=\"1\" class=\"dataframe\">\n",
       "  <thead>\n",
       "    <tr style=\"text-align: right;\">\n",
       "      <th></th>\n",
       "      <th>estudante</th>\n",
       "      <th>matemática</th>\n",
       "      <th>física</th>\n",
       "      <th>química</th>\n",
       "      <th>cluster_single</th>\n",
       "      <th>cluster_complete</th>\n",
       "    </tr>\n",
       "  </thead>\n",
       "  <tbody>\n",
       "    <tr>\n",
       "      <th>0</th>\n",
       "      <td>Gabriela</td>\n",
       "      <td>3.7</td>\n",
       "      <td>2.7</td>\n",
       "      <td>9.1</td>\n",
       "      <td>0</td>\n",
       "      <td>0</td>\n",
       "    </tr>\n",
       "    <tr>\n",
       "      <th>1</th>\n",
       "      <td>Luiz Felipe</td>\n",
       "      <td>7.8</td>\n",
       "      <td>8.0</td>\n",
       "      <td>1.5</td>\n",
       "      <td>1</td>\n",
       "      <td>2</td>\n",
       "    </tr>\n",
       "    <tr>\n",
       "      <th>2</th>\n",
       "      <td>Patrícia</td>\n",
       "      <td>8.9</td>\n",
       "      <td>1.0</td>\n",
       "      <td>2.7</td>\n",
       "      <td>2</td>\n",
       "      <td>1</td>\n",
       "    </tr>\n",
       "    <tr>\n",
       "      <th>3</th>\n",
       "      <td>Ovídio</td>\n",
       "      <td>7.0</td>\n",
       "      <td>1.0</td>\n",
       "      <td>9.0</td>\n",
       "      <td>0</td>\n",
       "      <td>0</td>\n",
       "    </tr>\n",
       "    <tr>\n",
       "      <th>4</th>\n",
       "      <td>Leonor</td>\n",
       "      <td>3.4</td>\n",
       "      <td>2.0</td>\n",
       "      <td>5.0</td>\n",
       "      <td>0</td>\n",
       "      <td>0</td>\n",
       "    </tr>\n",
       "  </tbody>\n",
       "</table>\n",
       "</div>"
      ],
      "text/plain": [
       "     estudante  matemática  física  química cluster_single cluster_complete\n",
       "0     Gabriela         3.7     2.7      9.1              0                0\n",
       "1  Luiz Felipe         7.8     8.0      1.5              1                2\n",
       "2     Patrícia         8.9     1.0      2.7              2                1\n",
       "3       Ovídio         7.0     1.0      9.0              0                0\n",
       "4       Leonor         3.4     2.0      5.0              0                0"
      ]
     },
     "execution_count": 30,
     "metadata": {},
     "output_type": "execute_result"
    }
   ],
   "source": [
    "dados_vest.head()"
   ]
  },
  {
   "cell_type": "code",
   "execution_count": 31,
   "id": "0c4193c6",
   "metadata": {},
   "outputs": [
    {
     "name": "stdout",
     "output_type": "stream",
     "text": [
      "[3.713488925525428, 5.473572873361603, 7.1867934435323795, 10.290286682109492]\n"
     ]
    }
   ],
   "source": [
    "# Coeficientes do esquema hierárquico de aglomeração (complete)\n",
    "coef_complete = [y[1] for y in dendrogram_c['dcoord']]\n",
    "print(coef_complete)"
   ]
  },
  {
   "cell_type": "code",
   "execution_count": 32,
   "id": "1481c4f2",
   "metadata": {},
   "outputs": [
    {
     "data": {
      "image/png": "[encoded data removed]",
      "text/plain": [
       "<Figure size 1600x800 with 1 Axes>"
      ]
     },
     "metadata": {},
     "output_type": "display_data"
    }
   ],
   "source": [
    "#%% Cluster hierárquico aglomerativo: distância euclidiana + average linkage\n",
    "\n",
    "# Gerando o dendrograma\n",
    "## Distância euclidiana e método de encadeamento average linkage\n",
    "\n",
    "plt.figure(figsize=(16,8))\n",
    "dend_avg = sch.linkage(vest, method = 'average', metric = 'euclidean')\n",
    "dendrogram_a = sch.dendrogram(dend_avg, color_threshold = 6, labels = list(dados_vest.estudante))\n",
    "plt.title('Dendrograma', fontsize=16)\n",
    "plt.xlabel('Pessoas', fontsize=16)\n",
    "plt.ylabel('Distância Euclidiana', fontsize=16)\n",
    "plt.axhline(y = 6, color = 'red', linestyle = '--')\n",
    "plt.show()"
   ]
  },
  {
   "cell_type": "code",
   "execution_count": 33,
   "id": "0c3d53cc",
   "metadata": {},
   "outputs": [],
   "source": [
    "# Gerando a variável com a indicação do cluster no dataset\n",
    "\n",
    "cluster_avg = AgglomerativeClustering(n_clusters = 3, metric = 'euclidean', linkage = 'average')\n",
    "indica_cluster_avg = cluster_avg.fit_predict(vest)\n",
    "dados_vest['cluster_average'] = indica_cluster_avg\n",
    "dados_vest['cluster_average'] = dados_vest['cluster_average'].astype('category')"
   ]
  },
  {
   "cell_type": "code",
   "execution_count": 34,
   "id": "93353b3c",
   "metadata": {},
   "outputs": [
    {
     "data": {
      "text/html": [
       "<div>\n",
       "<style scoped>\n",
       "    .dataframe tbody tr th:only-of-type {\n",
       "        vertical-align: middle;\n",
       "    }\n",
       "\n",
       "    .dataframe tbody tr th {\n",
       "        vertical-align: top;\n",
       "    }\n",
       "\n",
       "    .dataframe thead th {\n",
       "        text-align: right;\n",
       "    }\n",
       "</style>\n",
       "<table border=\"1\" class=\"dataframe\">\n",
       "  <thead>\n",
       "    <tr style=\"text-align: right;\">\n",
       "      <th></th>\n",
       "      <th>estudante</th>\n",
       "      <th>matemática</th>\n",
       "      <th>física</th>\n",
       "      <th>química</th>\n",
       "      <th>cluster_single</th>\n",
       "      <th>cluster_complete</th>\n",
       "      <th>cluster_average</th>\n",
       "    </tr>\n",
       "  </thead>\n",
       "  <tbody>\n",
       "    <tr>\n",
       "      <th>0</th>\n",
       "      <td>Gabriela</td>\n",
       "      <td>3.7</td>\n",
       "      <td>2.7</td>\n",
       "      <td>9.1</td>\n",
       "      <td>0</td>\n",
       "      <td>0</td>\n",
       "      <td>0</td>\n",
       "    </tr>\n",
       "    <tr>\n",
       "      <th>1</th>\n",
       "      <td>Luiz Felipe</td>\n",
       "      <td>7.8</td>\n",
       "      <td>8.0</td>\n",
       "      <td>1.5</td>\n",
       "      <td>1</td>\n",
       "      <td>2</td>\n",
       "      <td>1</td>\n",
       "    </tr>\n",
       "    <tr>\n",
       "      <th>2</th>\n",
       "      <td>Patrícia</td>\n",
       "      <td>8.9</td>\n",
       "      <td>1.0</td>\n",
       "      <td>2.7</td>\n",
       "      <td>2</td>\n",
       "      <td>1</td>\n",
       "      <td>2</td>\n",
       "    </tr>\n",
       "    <tr>\n",
       "      <th>3</th>\n",
       "      <td>Ovídio</td>\n",
       "      <td>7.0</td>\n",
       "      <td>1.0</td>\n",
       "      <td>9.0</td>\n",
       "      <td>0</td>\n",
       "      <td>0</td>\n",
       "      <td>0</td>\n",
       "    </tr>\n",
       "    <tr>\n",
       "      <th>4</th>\n",
       "      <td>Leonor</td>\n",
       "      <td>3.4</td>\n",
       "      <td>2.0</td>\n",
       "      <td>5.0</td>\n",
       "      <td>0</td>\n",
       "      <td>0</td>\n",
       "      <td>0</td>\n",
       "    </tr>\n",
       "  </tbody>\n",
       "</table>\n",
       "</div>"
      ],
      "text/plain": [
       "     estudante  matemática  física  química cluster_single cluster_complete  \\\n",
       "0     Gabriela         3.7     2.7      9.1              0                0   \n",
       "1  Luiz Felipe         7.8     8.0      1.5              1                2   \n",
       "2     Patrícia         8.9     1.0      2.7              2                1   \n",
       "3       Ovídio         7.0     1.0      9.0              0                0   \n",
       "4       Leonor         3.4     2.0      5.0              0                0   \n",
       "\n",
       "  cluster_average  \n",
       "0               0  \n",
       "1               1  \n",
       "2               2  \n",
       "3               0  \n",
       "4               0  "
      ]
     },
     "execution_count": 34,
     "metadata": {},
     "output_type": "execute_result"
    }
   ],
   "source": [
    "dados_vest.head()"
   ]
  },
  {
   "cell_type": "code",
   "execution_count": 35,
   "id": "734dad44",
   "metadata": {},
   "outputs": [
    {
     "name": "stdout",
     "output_type": "stream",
     "text": [
      "[3.713488925525428, 4.821852382880106, 7.014908666114838, 8.957934317775708]\n"
     ]
    }
   ],
   "source": [
    "# Coeficientes do esquema hierárquico de aglomeração (average)\n",
    "coef_avg = [y[1] for y in dendrogram_a['dcoord']]\n",
    "print(coef_avg)"
   ]
  },
  {
   "cell_type": "code",
   "execution_count": null,
   "id": "b8732b22",
   "metadata": {},
   "outputs": [],
   "source": []
  }
 ],
 "metadata": {
  "kernelspec": {
   "display_name": "Python 3 (ipykernel)",
   "language": "python",
   "name": "python3"
  },
  "language_info": {
   "codemirror_mode": {
    "name": "ipython",
    "version": 3
   },
   "file_extension": ".py",
   "mimetype": "text/x-python",
   "name": "python",
   "nbconvert_exporter": "python",
   "pygments_lexer": "ipython3",
   "version": "3.10.9"
  }
 },
 "nbformat": 4,
 "nbformat_minor": 5
}
